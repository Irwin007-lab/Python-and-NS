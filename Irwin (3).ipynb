{
  "nbformat": 4,
  "nbformat_minor": 0,
  "metadata": {
    "colab": {
      "name": "Irwin.ipynb",
      "provenance": [],
      "collapsed_sections": []
    },
    "kernelspec": {
      "display_name": "Python 3",
      "name": "python3"
    },
    "language_info": {
      "name": "python"
    }
  },
  "cells": [
    {
      "cell_type": "markdown",
      "metadata": {
        "id": "dUcj5ucLV_M8"
      },
      "source": [
        "# <font color=\"grey\"> **PROJECT 1**<font>"
      ]
    },
    {
      "cell_type": "code",
      "metadata": {
        "colab": {
          "base_uri": "https://localhost:8080/"
        },
        "id": "rewVkD3vhENC",
        "outputId": "40d7c5a2-f8ba-4bf4-d0c6-b0e50e4b3469"
      },
      "source": [
        "import hashlib\n",
        "print(hashlib.algorithms_available)"
      ],
      "execution_count": 2,
      "outputs": [
        {
          "output_type": "stream",
          "text": [
            "{'sha1', 'sha384', 'blake2b', 'sha3_512', 'sha256', 'blake2s', 'sha3_384', 'sha512', 'sha3_256', 'shake_256', 'sha3_224', 'sha224', 'shake_128', 'md5'}\n"
          ],
          "name": "stdout"
        }
      ]
    },
    {
      "cell_type": "code",
      "metadata": {
        "colab": {
          "base_uri": "https://localhost:8080/"
        },
        "id": "Y7doiCKijcFB",
        "outputId": "c3ba512b-2b71-40e9-ba8d-27de8ba68815"
      },
      "source": [
        "string = input(\"Enter a string:\")\n",
        "\n",
        "en =  hashlib.md5(string.encode()) \n",
        "\n",
        "print(en.hexdigest())"
      ],
      "execution_count": 5,
      "outputs": [
        {
          "output_type": "stream",
          "text": [
            "Enter a string:1\n",
            "c4ca4238a0b923820dcc509a6f75849b\n"
          ],
          "name": "stdout"
        }
      ]
    },
    {
      "cell_type": "markdown",
      "metadata": {
        "id": "0HRjyfzwWRo0"
      },
      "source": [
        "# <font color=\"grey\"> **PROJECT 2**<font>"
      ]
    },
    {
      "cell_type": "code",
      "metadata": {
        "colab": {
          "base_uri": "https://localhost:8080/"
        },
        "id": "cOfVmTZ4XXP3",
        "outputId": "3cd87a1a-c38e-4427-ce37-0d4297fcac5e"
      },
      "source": [
        "string1 = input(\"Enter a string:\")\n",
        "sh = hashlib.sha1(string1.encode())\n",
        "print()\n",
        "print(\"This is encoded using \\\"sha1\\\" algorithm\")\n",
        "print()\n",
        "print(sh.hexdigest())\n",
        "print()\n",
        "h = hashlib.sha512(string1.encode())\n",
        "print(\"This is encoded using \\\"sha512\\\" algorithm\")\n",
        "print()\n",
        "print(h.hexdigest())\n",
        "print()\n",
        "s = hashlib.blake2s(string1.encode())\n",
        "print(\"This is encoded using \\\"blake2s\\\" algorithm\")\n",
        "print()\n",
        "print(s.hexdigest())"
      ],
      "execution_count": 23,
      "outputs": [
        {
          "output_type": "stream",
          "text": [
            "Enter a string:abcd\n",
            "\n",
            "This is encoded using \"sha1\" algorithm\n",
            "\n",
            "81fe8bfe87576c3ecb22426f8e57847382917acf\n",
            "\n",
            "This is encoded using \"sha512\" algorithm\n",
            "\n",
            "d8022f2060ad6efd297ab73dcc5355c9b214054b0d1776a136a669d26a7d3b14f73aa0d0ebff19ee333368f0164b6419a96da49e3e481753e7e96b716bdccb6f\n",
            "\n",
            "This is encoded using \"blake2s\" algorithm\n",
            "\n",
            "716748cce97a0abc942e1d491bc25102f5b6ff71ee62a86abd605a6c40120169\n"
          ],
          "name": "stdout"
        }
      ]
    },
    {
      "cell_type": "markdown",
      "metadata": {
        "id": "pAGY3lsxbn5c"
      },
      "source": [
        "# <font color=\"grey\"> **PROJECT 3**<font>"
      ]
    },
    {
      "cell_type": "code",
      "metadata": {
        "colab": {
          "base_uri": "https://localhost:8080/"
        },
        "id": "5siEbFgUbmIK",
        "outputId": "eaf9835e-6a72-4b34-ed1d-260aafe32b28"
      },
      "source": [
        "string2 = input(\"Enter a string:\")\n",
        "newstring = \"abcd\" + string2 + \"wefgh\"\n",
        "print()\n",
        "print(\"After adding \\\"Salting\\\"\")\n",
        "print()\n",
        "print(new_string)\n",
        "e = hashlib.md5(newstring.encode()) \n",
        "print()\n",
        "a = e.hexdigest()\n",
        "print(\"1 time using \\\"md5\\\"\")\n",
        "print()\n",
        "print(a)\n",
        "print()\n",
        "for i in range(2,5):\n",
        "  print(i, \" time using \\\"md5\\\"\")\n",
        "  print()\n",
        "  c =  hashlib.md5(a.encode())\n",
        "  d = c.hexdigest()\n",
        "  a = d\n",
        "  print(d)\n",
        "  print()"
      ],
      "execution_count": 33,
      "outputs": [
        {
          "output_type": "stream",
          "text": [
            "Enter a string:abcd\n",
            "\n",
            "After adding \"Salting\"\n",
            "\n",
            "abcdabcdwefgh\n",
            "\n",
            "1 time using \"md5\"\n",
            "\n",
            "087bdab0573916a72c675cdbf1d7f379\n",
            "\n",
            "2  time using \"md5\"\n",
            "\n",
            "294e4db7487277f695d35782e22d4d6a\n",
            "\n",
            "3  time using \"md5\"\n",
            "\n",
            "89b0a45b1b090be51e3e492cc584c2fb\n",
            "\n",
            "4  time using \"md5\"\n",
            "\n",
            "8ff836340c28f034467a5e974df202f9\n",
            "\n"
          ],
          "name": "stdout"
        }
      ]
    }
  ]
}